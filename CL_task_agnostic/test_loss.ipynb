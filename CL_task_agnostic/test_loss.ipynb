{
 "cells": [
  {
   "cell_type": "code",
   "execution_count": 51,
   "id": "1e237b62",
   "metadata": {},
   "outputs": [],
   "source": [
    "import torch\n",
    "import torch.nn.functional as F\n",
    "from torch import nn as nn\n",
    "\n",
    "class _AbstractDiceLoss(nn.Module):\n",
    "    \"\"\"\n",
    "    Base class for different implementations of Dice loss.\n",
    "    \"\"\"\n",
    "\n",
    "    def __init__(self, weight=None, normalization='sigmoid'):\n",
    "        super(_AbstractDiceLoss, self).__init__()\n",
    "        self.register_buffer('weight', weight)\n",
    "        # The output from the network during training is assumed to be un-normalized probabilities and we would\n",
    "        # like to normalize the logits. Since Dice (or soft Dice in this case) is usually used for binary data,\n",
    "        # normalizing the channels with Sigmoid is the default choice even for multi-class segmentation problems.\n",
    "        # However if one would like to apply Softmax in order to get the proper probability distribution from the\n",
    "        # output, just specify `normalization=Softmax`\n",
    "        assert normalization in ['sigmoid', 'softmax', 'none']\n",
    "        if normalization == 'sigmoid':\n",
    "            self.normalization = nn.Sigmoid()\n",
    "        elif normalization == 'softmax':\n",
    "            self.normalization = nn.Softmax(dim=1)\n",
    "        else:\n",
    "            self.normalization = lambda x: x\n",
    "\n",
    "    def dice(self, input, target, weight):\n",
    "        # actual Dice score computation; to be implemented by the subclass\n",
    "        raise NotImplementedError\n",
    "\n",
    "    def forward(self, input, target):\n",
    "        # get probabilities from logits\n",
    "        input = self.normalization(input)\n",
    "\n",
    "        # compute per channel Dice coefficient\n",
    "        per_channel_dice = self.dice(input, target, weight=self.weight)\n",
    "\n",
    "        # average Dice score across all channels/classes\n",
    "        return 1. - torch.mean(per_channel_dice)\n",
    "\n",
    "def flatten(tensor):\n",
    "    \"\"\"Flattens a given tensor such that the channel axis is first.\n",
    "    The shapes are transformed as follows:\n",
    "       (N, C, D, H, W) -> (C, N * D * H * W)\n",
    "    \"\"\"\n",
    "    # number of channels\n",
    "    C = tensor.size(1)\n",
    "    # new axis order\n",
    "    axis_order = (1, 0) + tuple(range(2, tensor.dim()))\n",
    "    # Transpose: (N, C, D, H, W) -> (C, N, D, H, W)\n",
    "    transposed = tensor.permute(axis_order)\n",
    "    # Flatten: (C, N, D, H, W) -> (C, N * D * H * W)\n",
    "    return transposed.contiguous().view(C, -1)\n",
    "\n",
    "class GeneralizedDiceLoss(_AbstractDiceLoss):\n",
    "    \"\"\"Computes Generalized Dice Loss (GDL) as described in https://arxiv.org/pdf/1707.03237.pdf.\n",
    "    \"\"\"\n",
    "\n",
    "    def __init__(self, normalization='sigmoid', epsilon=1e-6):\n",
    "        super().__init__(weight=None, normalization=normalization)\n",
    "        self.epsilon = epsilon\n",
    "\n",
    "    def dice(self, input, target, weight):\n",
    "        assert input.size() == target.size(), \"'input' and 'target' must have the same shape\"\n",
    "        print('input value after forward',input[1, :, 0, 0, 0])\n",
    "\n",
    "        input = flatten(input)\n",
    "        target = flatten(target)\n",
    "        target = target.float()\n",
    "\n",
    "        if input.size(0) == 1:\n",
    "            print('resizing input and target')\n",
    "            # for GDL to make sense we need at least 2 channels (see https://arxiv.org/pdf/1707.03237.pdf)\n",
    "            # put foreground and background voxels in separate channels\n",
    "            input = torch.cat((input, 1 - input), dim=0)\n",
    "            target = torch.cat((target, 1 - target), dim=0)\n",
    "\n",
    "        print('input value after resizing',input[:, 1])\n",
    "        # GDL weighting: the contribution of each label is corrected by the inverse of its volume\n",
    "        w_l = target.sum(-1)\n",
    "        w_l = 1 / (w_l * w_l).clamp(min=self.epsilon)\n",
    "        w_l.requires_grad = False\n",
    "\n",
    "        intersect = (input * target).sum(-1)\n",
    "        intersect = intersect * w_l\n",
    "\n",
    "        denominator = (input + target).sum(-1)\n",
    "        denominator = (denominator * w_l).clamp(min=self.epsilon)\n",
    "\n",
    "        return 2 * (intersect.sum() / denominator.sum())"
   ]
  },
  {
   "cell_type": "code",
   "execution_count": 52,
   "id": "15bb002e",
   "metadata": {},
   "outputs": [
    {
     "name": "stdout",
     "output_type": "stream",
     "text": [
      "input_tensor max tensor(4.6058)\n",
      "input_tensor min tensor(-4.7620)\n",
      "target_tensor max tensor(1)\n",
      "target_tensor min tensor(0)\n",
      "inpute tensor value tensor([-0.1462])\n"
     ]
    }
   ],
   "source": [
    "input_tensor  = torch.randn(16, 1, 48, 48, 24)          # batch=16, channel=2\n",
    "target_tensor = torch.randint(0, 2, (16, 1, 48, 48, 24))\n",
    "print('input_tensor max', input_tensor.max())\n",
    "print('input_tensor min', input_tensor.min())\n",
    "print('target_tensor max', target_tensor.max())\n",
    "print('target_tensor min', target_tensor.min())\n",
    "print('inpute tensor value', input_tensor[1, :, 0, 0, 0])"
   ]
  },
  {
   "cell_type": "code",
   "execution_count": null,
   "id": "c75aab77",
   "metadata": {},
   "outputs": [
    {
     "name": "stdout",
     "output_type": "stream",
     "text": [
      ">> GeneralizedDiceLoss.dice 被调用\n",
      "input value after forward tensor([1.])\n",
      "resizing input and target\n",
      "input value after resizing tensor([1., 0.])\n",
      ">> GeneralizedDiceLoss.forward 被调用\n",
      "Computed loss: 0.5000013709068298\n"
     ]
    }
   ],
   "source": [
    "gdl = GeneralizedDiceLoss(normalization='sigmoid', epsilon=1e-6)\n",
    "gdl.register_forward_hook(\n",
    "    lambda module, inp, out: print(\">> GeneralizedDiceLoss.forward 被调用\")\n",
    ")\n",
    "\n",
    "# 再给 dice 方法也注册一个简单的打印（可选）\n",
    "orig_dice = gdl.dice\n",
    "def hooked_dice(input, target, weight):\n",
    "    print(\">> GeneralizedDiceLoss.dice 被调用\")\n",
    "    return orig_dice(input, target, weight)\n",
    "gdl.dice = hooked_dice\n",
    "\n",
    "# 调用前向，观察打印\n",
    "loss = gdl(input_tensor, target_tensor)\n",
    "print(\"Computed loss:\", loss.item())"
   ]
  },
  {
   "cell_type": "code",
   "execution_count": 31,
   "id": "92946713",
   "metadata": {},
   "outputs": [
    {
     "data": {
      "text/plain": [
       "0.2509221847803284"
      ]
     },
     "execution_count": 31,
     "metadata": {},
     "output_type": "execute_result"
    }
   ],
   "source": [
    "import math\n",
    "math.exp(-0.5403)/(math.exp(-0.5403)+math.exp(0.5534))"
   ]
  },
  {
   "cell_type": "code",
   "execution_count": null,
   "id": "eaed2914",
   "metadata": {},
   "outputs": [],
   "source": []
  }
 ],
 "metadata": {
  "kernelspec": {
   "display_name": "FL",
   "language": "python",
   "name": "python3"
  },
  "language_info": {
   "codemirror_mode": {
    "name": "ipython",
    "version": 3
   },
   "file_extension": ".py",
   "mimetype": "text/x-python",
   "name": "python",
   "nbconvert_exporter": "python",
   "pygments_lexer": "ipython3",
   "version": "3.10.14"
  }
 },
 "nbformat": 4,
 "nbformat_minor": 5
}
