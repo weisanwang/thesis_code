{
 "cells": [
  {
   "cell_type": "code",
   "execution_count": 19,
   "id": "df3466fb",
   "metadata": {},
   "outputs": [],
   "source": [
    "import torch\n",
    "import torch.nn.functional as F\n",
    "import numpy as np\n",
    "import random\n",
    "def set_all_seeds(seed):\n",
    "  random.seed(seed)\n",
    "  # os.environ(“PYTHONHASHSEED”) = str(seed)\n",
    "  np.random.seed(seed)\n",
    "  torch.manual_seed(seed)\n",
    "  torch.cuda.manual_seed(seed)\n",
    "  torch.backends.cudnn.deterministic = True"
   ]
  },
  {
   "cell_type": "code",
   "execution_count": 23,
   "id": "fd72809b",
   "metadata": {},
   "outputs": [
    {
     "name": "stdout",
     "output_type": "stream",
     "text": [
      "Using device: cuda\n"
     ]
    }
   ],
   "source": [
    "set_all_seeds(42)\n",
    "device = torch.device(\"cuda\" if torch.cuda.is_available() else \"cpu\")\n",
    "print(\"Using device:\", device)\n",
    "B, C, D, H, W = 16, 2, 16, 16, 8\n",
    "student_logits = torch.randn(B, C, D, H, W, device=device)\n",
    "teacher_logits = torch.randn_like(student_logits)\n",
    "\n",
    "def lwf_loss(student_logits, teacher_logits, T=10.0):\n",
    "    loss_kl = F.kl_div(\n",
    "            F.log_softmax(student_logits / T, dim=1),\n",
    "            F.softmax(teacher_logits / T, dim=1),\n",
    "            reduction='none'\n",
    "        ).mean() * (T * T)\n",
    "\n",
    "    return loss_kl\n",
    "\n",
    "def test_lwf_loss(student_logits, teacher_logits, T=2.0):\n",
    "    loss_kl = F.kl_div(\n",
    "            F.log_softmax(student_logits / T, dim=1),\n",
    "            F.softmax(teacher_logits / T, dim=1),\n",
    "            reduction='batchmean'\n",
    "        ) * (T * T)\n",
    "    return loss_kl"
   ]
  },
  {
   "cell_type": "code",
   "execution_count": 27,
   "id": "e7602172",
   "metadata": {},
   "outputs": [
    {
     "name": "stdout",
     "output_type": "stream",
     "text": [
      "lwf_loss t=2 tensor(0.2246, device='cuda:0')\n",
      "lwf_loss t=10 tensor(0.2485, device='cuda:0')\n",
      "lwf_loss t=10000 tensor(1.1715, device='cuda:0')\n",
      "test_lwf_loss tensor(919.9381, device='cuda:0')\n"
     ]
    }
   ],
   "source": [
    "print('lwf_loss t=2', lwf_loss(student_logits, teacher_logits, T=2.0))\n",
    "print('lwf_loss t=10', lwf_loss(student_logits, teacher_logits, T=10.0))\n",
    "print('lwf_loss t=10000', lwf_loss(student_logits, teacher_logits, T=10000.0))\n",
    "print('test_lwf_loss', test_lwf_loss(student_logits, teacher_logits))"
   ]
  },
  {
   "cell_type": "code",
   "execution_count": null,
   "id": "44ed1c29",
   "metadata": {},
   "outputs": [],
   "source": []
  }
 ],
 "metadata": {
  "kernelspec": {
   "display_name": "FL",
   "language": "python",
   "name": "python3"
  },
  "language_info": {
   "codemirror_mode": {
    "name": "ipython",
    "version": 3
   },
   "file_extension": ".py",
   "mimetype": "text/x-python",
   "name": "python",
   "nbconvert_exporter": "python",
   "pygments_lexer": "ipython3",
   "version": "3.10.14"
  }
 },
 "nbformat": 4,
 "nbformat_minor": 5
}
